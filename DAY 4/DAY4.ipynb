{
 "cells": [
  {
   "cell_type": "markdown",
   "metadata": {},
   "source": [
    "Question 1 :\n",
    "Research on whether addition, subtraction, multiplication, division, floor division and modulo\n",
    "operations be performed on complex numbers. Based on your study, implement a Python\n",
    "program to demonstrate these operations."
   ]
  },
  {
   "cell_type": "code",
   "execution_count": 6,
   "metadata": {},
   "outputs": [
    {
     "name": "stdout",
     "output_type": "stream",
     "text": [
      "a-b= (2+7j)\n",
      "a/b= (1.5625+0.3125j)\n",
      "a+b= (18+23j)\n",
      "a*b= (-40+200j)\n"
     ]
    }
   ],
   "source": [
    "a=10+15j\n",
    "b=8+8j\n",
    "print(\"a-b=\",a-b)\n",
    "print(\"a/b=\",a/b)\n",
    "print(\"a+b=\",a+b)\n",
    "print(\"a*b=\",a*b)\n",
    "#we cant take floor and modulo operation on complex numbers it gives error"
   ]
  },
  {
   "cell_type": "markdown",
   "metadata": {},
   "source": [
    "Question 2\n",
    "Research on range() functions and its parameters. Create a markdown cell and write in your own\n",
    "words (no copy-paste from google please) what you understand about it. Implement a small\n",
    "program of your choice on the same.\n"
   ]
  },
  {
   "cell_type": "code",
   "execution_count": 20,
   "metadata": {},
   "outputs": [
    {
     "name": "stdout",
     "output_type": "stream",
     "text": [
      "0\n",
      "1\n",
      "2\n",
      "3\n",
      "4\n",
      "5\n",
      "6\n",
      "7\n",
      "8\n",
      "9\n",
      "10\n",
      "11\n",
      "12\n",
      "13\n",
      "***********\n",
      "1\n",
      "2\n",
      "3\n",
      "4\n",
      "***********\n",
      "1\n",
      "4\n",
      "***********\n"
     ]
    }
   ],
   "source": [
    "x=range(14)\n",
    "for i in x:\n",
    "    print(i)\n",
    "print(\"***********\")\n",
    "y=range(1,5)\n",
    "for i in y:\n",
    "    print(i)\n",
    "print(\"***********\")\n",
    "z=range(1,5,3)\n",
    "for i in z:\n",
    "    print(i)\n",
    "print(\"***********\")"
   ]
  },
  {
   "cell_type": "markdown",
   "metadata": {},
   "source": [
    " for 1 case:It starts from the default value 0 and goes upto 14-1 for this case.\n",
    "for 2 case:the first parameter is for starting and second parameter is for ending \n",
    "for case 3:the first parameter is for starting and second parameter is for ending and the third parameter is for no of steps it             shouls take."
   ]
  },
  {
   "cell_type": "markdown",
   "metadata": {},
   "source": [
    " QUESTION 3\n",
    " Consider two numbers. Perform their subtraction and if the result of subtraction is greater than\n",
    "25, print their multiplication result else print their division result.\n"
   ]
  },
  {
   "cell_type": "code",
   "execution_count": 33,
   "metadata": {},
   "outputs": [
    {
     "name": "stdout",
     "output_type": "stream",
     "text": [
      "2.0\n"
     ]
    }
   ],
   "source": [
    "a=40\n",
    "b=20\n",
    "c=a-b\n",
    "if(c>25):\n",
    "    print(a*b)\n",
    "else:\n",
    "    print(a/b)"
   ]
  },
  {
   "cell_type": "markdown",
   "metadata": {},
   "source": [
    "Question 4:\n",
    "Consider a list of 10 elements of integer values. If the number in the list is divisible by 2, print the\n",
    "result as \"square of that number minus 2\".\n"
   ]
  },
  {
   "cell_type": "code",
   "execution_count": null,
   "metadata": {},
   "outputs": [],
   "source": [
    "a=[1,2,3,4,5,6,7,8,9,10]\n",
    "for i in range(0,len(a)):\n",
    "    if(a[i]%2==0):\n",
    "        print((a[i]*a[i])-2)\n"
   ]
  },
  {
   "cell_type": "markdown",
   "metadata": {},
   "source": [
    "Question 5:\n",
    "Consider a list of 10 elements. Print all the elements in the list which are greater than 7 when that\n",
    "number is divided 2.\n"
   ]
  },
  {
   "cell_type": "code",
   "execution_count": null,
   "metadata": {},
   "outputs": [],
   "source": [
    "a=[1,2,3,4,5,6,7,8,9,102]\n",
    "for i in a:\n",
    "    if(i/2>7):\n",
    "        print(i)"
   ]
  },
  {
   "cell_type": "code",
   "execution_count": null,
   "metadata": {},
   "outputs": [],
   "source": []
  },
  {
   "cell_type": "code",
   "execution_count": null,
   "metadata": {},
   "outputs": [],
   "source": []
  }
 ],
 "metadata": {
  "kernelspec": {
   "display_name": "Python 3",
   "language": "python",
   "name": "python3"
  },
  "language_info": {
   "codemirror_mode": {
    "name": "ipython",
    "version": 3
   },
   "file_extension": ".py",
   "mimetype": "text/x-python",
   "name": "python",
   "nbconvert_exporter": "python",
   "pygments_lexer": "ipython3",
   "version": "3.7.6"
  }
 },
 "nbformat": 4,
 "nbformat_minor": 4
}
