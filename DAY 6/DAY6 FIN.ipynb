{
 "cells": [
  {
   "cell_type": "code",
   "execution_count": 1,
   "metadata": {},
   "outputs": [
    {
     "name": "stdout",
     "output_type": "stream",
     "text": [
      "Enter mail id:muthu@google.com\n",
      "google\n"
     ]
    }
   ],
   "source": [
    "#Question 1\n",
    "mail=input(\"Enter mail id:\")\n",
    "a=mail.index(\"@\")\n",
    "b=mail.index(\".\")\n",
    "print(mail[a+1:b])"
   ]
  },
  {
   "cell_type": "code",
   "execution_count": 2,
   "metadata": {},
   "outputs": [
    {
     "name": "stdout",
     "output_type": "stream",
     "text": [
      "Enter the wordsasd,asdf,muthu,fredf\n",
      "asd,asdf,fredf,muthu\n"
     ]
    }
   ],
   "source": [
    "#Question 2\n",
    "items = input(\"Enter the words\")\n",
    "words = [word for word in items.split(\",\")]\n",
    "print(\",\".join(sorted(words)))"
   ]
  },
  {
   "cell_type": "code",
   "execution_count": 4,
   "metadata": {},
   "outputs": [],
   "source": [
    "Question 3\n"
   ]
  },
  {
   "cell_type": "code",
   "execution_count": 7,
   "metadata": {},
   "outputs": [
    {
     "name": "stdout",
     "output_type": "stream",
     "text": [
      "the missing no is \n",
      "9.0\n"
     ]
    }
   ],
   "source": [
    "#Question 4\n",
    "arr=[1,2,3,4,5,6,7,8,10]\n",
    "n=len(arr)\n",
    "total=((n+1)*(n+2))/2\n",
    "arrSUM=sum(arr)\n",
    "print(\"the missing no is \")\n",
    "print(total-arrSUM)\n"
   ]
  },
  {
   "cell_type": "code",
   "execution_count": 9,
   "metadata": {},
   "outputs": [
    {
     "name": "stdout",
     "output_type": "stream",
     "text": [
      "[1, 2, 8, 12, 435, 57, 123, 93]\n"
     ]
    }
   ],
   "source": [
    "#Question 5\n",
    "duplicate = [2,12,123,435,57,8,93,2,1] \n",
    "print(list(set(duplicate)))"
   ]
  },
  {
   "cell_type": "code",
   "execution_count": null,
   "metadata": {},
   "outputs": [],
   "source": []
  }
 ],
 "metadata": {
  "kernelspec": {
   "display_name": "Python 3",
   "language": "python",
   "name": "python3"
  },
  "language_info": {
   "codemirror_mode": {
    "name": "ipython",
    "version": 3
   },
   "file_extension": ".py",
   "mimetype": "text/x-python",
   "name": "python",
   "nbconvert_exporter": "python",
   "pygments_lexer": "ipython3",
   "version": "3.7.6"
  }
 },
 "nbformat": 4,
 "nbformat_minor": 4
}
