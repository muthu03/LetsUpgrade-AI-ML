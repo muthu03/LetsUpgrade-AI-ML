{
 "cells": [
  {
   "cell_type": "markdown",
   "metadata": {},
   "source": [
    "Question 1 :\n",
    "Write a Python program to find the first 20 non-even prime natural numbers."
   ]
  },
  {
   "cell_type": "code",
   "execution_count": 44,
   "metadata": {},
   "outputs": [
    {
     "name": "stdout",
     "output_type": "stream",
     "text": [
      "3\n",
      "5\n",
      "7\n",
      "11\n",
      "13\n",
      "17\n",
      "19\n",
      "23\n",
      "29\n",
      "31\n",
      "37\n",
      "41\n",
      "43\n",
      "47\n",
      "53\n",
      "59\n",
      "61\n",
      "67\n",
      "71\n",
      "73\n"
     ]
    }
   ],
   "source": [
    "def primeno(number):\n",
    "    for i in range(2,number):\n",
    "        if((number%i)==0):\n",
    "            return False\n",
    "    return True\n",
    "c=0\n",
    "for x in range(3,100):\n",
    "    if(primeno(x)==True):\n",
    "        print(x)\n",
    "        c=c+1\n",
    "    if(c==20):\n",
    "        break\n"
   ]
  },
  {
   "cell_type": "markdown",
   "metadata": {},
   "source": [
    "Question 2 :\n",
    "Write a Python program to implement 15 functions of string."
   ]
  },
  {
   "cell_type": "code",
   "execution_count": 30,
   "metadata": {},
   "outputs": [
    {
     "name": "stdout",
     "output_type": "stream",
     "text": [
      "1\n",
      "True\n",
      "18\n",
      "True\n",
      "False\n",
      "True\n",
      "False\n",
      "['Hey', 'there', 'this', 'is', 'Muthu.']\n",
      "HEY THERE THIS IS MUTHU.\n",
      "hey there this is muthu.\n",
      "hEY THERE THIS IS mUTHU.\n",
      "24\n",
      "[(0, 'H'), (1, 'e'), (2, 'y'), (3, ' '), (4, 't'), (5, 'h'), (6, 'e'), (7, 'r'), (8, 'e'), (9, ' '), (10, 't'), (11, 'h'), (12, 'i'), (13, 's'), (14, ' '), (15, 'i'), (16, 's'), (17, ' '), (18, 'M'), (19, 'u'), (20, 't'), (21, 'h'), (22, 'u'), (23, '.')]\n"
     ]
    },
    {
     "data": {
      "text/plain": [
       "'This is Muthu'"
      ]
     },
     "execution_count": 30,
     "metadata": {},
     "output_type": "execute_result"
    }
   ],
   "source": [
    "string=\"Hey there this is Muthu.\"\n",
    "string.find(\"Muthu\")\n",
    "a=string.count(\"this\")\n",
    "print(a)\n",
    "b = string.endswith(\".\")\n",
    "print(b)\n",
    "c = string.index(\"Muthu\")\n",
    "print(c)\n",
    "strmp=\"Muthu13\"\n",
    "d =strmp.isalnum()\n",
    "print(d)\n",
    "e = string.isalpha()\n",
    "print(e)\n",
    "xt = \"\\u0033\" #unicode for 3\n",
    "f = xt.isdecimal()\n",
    "print(f)\n",
    "g = string.islower()\n",
    "print(g)\n",
    "txt = \"welcome to the jungle\"\n",
    "h = string.split()\n",
    "print(h)\n",
    "i = string.upper()\n",
    "print(i)\n",
    "j=string.lower()\n",
    "print(j)\n",
    "k = string.swapcase()\n",
    "print(k)\n",
    "l=len(string)\n",
    "print(l)\n",
    "m= list(enumerate(string))\n",
    "print(m)\n",
    "'Hey there this is Muthu'.replace('Hey','Hi')\n",
    "' '.join(['This', 'is', 'Muthu'])\n"
   ]
  },
  {
   "cell_type": "markdown",
   "metadata": {},
   "source": [
    "Question 3:\n",
    "Write a Python program to check if the given string is a Palindrome or Anagram or None of them.\n",
    "Display the message accordingly to the user."
   ]
  },
  {
   "cell_type": "code",
   "execution_count": 38,
   "metadata": {},
   "outputs": [
    {
     "name": "stdout",
     "output_type": "stream",
     "text": [
      "The strings are anagrams.\n"
     ]
    }
   ],
   "source": [
    "\n",
    "def anaandpal(s1, s2):   \n",
    "    a=s1[::-1] \n",
    "    if(a==s1):\n",
    "        print(\"They are Palindrome\")\n",
    "    \n",
    "    elif(sorted(s1)== sorted(s2)): \n",
    "        print(\"The strings are anagrams.\") \n",
    "    else: \n",
    "        print(\"They are not palindrome or anagrams.\")             \n",
    "s1 =\"ANNAM\"\n",
    "s2 =\"NAANM\" \n",
    "anaandpal(s1, s2)"
   ]
  },
  {
   "cell_type": "markdown",
   "metadata": {},
   "source": [
    "\n",
    "Question 4:\n",
    "Write a Python's user defined function that removes all the additional characters from the string\n",
    "and converts it finally to lower case using built-in lower(). eg: If the string is \"Dr. Darshan Ingle\n",
    "@AI-ML Trainer\", then the output be \"drdarshaningleaimltrainer\"."
   ]
  },
  {
   "cell_type": "code",
   "execution_count": 31,
   "metadata": {},
   "outputs": [
    {
     "name": "stdout",
     "output_type": "stream",
     "text": [
      "Muthu\n"
     ]
    }
   ],
   "source": [
    "str=\"Muthu_@13\"\n",
    "for i in str:\n",
    "    if not(i.isalpha()):\n",
    "        str=str.replace(i,\"\")\n",
    "print(str)"
   ]
  },
  {
   "cell_type": "code",
   "execution_count": null,
   "metadata": {},
   "outputs": [],
   "source": []
  }
 ],
 "metadata": {
  "kernelspec": {
   "display_name": "Python 3",
   "language": "python",
   "name": "python3"
  },
  "language_info": {
   "codemirror_mode": {
    "name": "ipython",
    "version": 3
   },
   "file_extension": ".py",
   "mimetype": "text/x-python",
   "name": "python",
   "nbconvert_exporter": "python",
   "pygments_lexer": "ipython3",
   "version": "3.7.6"
  }
 },
 "nbformat": 4,
 "nbformat_minor": 4
}
